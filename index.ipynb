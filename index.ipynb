{
 "cells": [
  {
   "cell_type": "code",
   "execution_count": 4,
   "outputs": [
    {
     "name": "stdout",
     "output_type": "stream",
     "text": [
      "Requirement already satisfied: opencv-python in /Users/anhthan/opt/anaconda3/lib/python3.9/site-packages (4.6.0.66)\r\n",
      "Requirement already satisfied: numpy>=1.17.3 in /Users/anhthan/opt/anaconda3/lib/python3.9/site-packages (from opencv-python) (1.21.5)\r\n",
      "Requirement already satisfied: imutils in /Users/anhthan/opt/anaconda3/lib/python3.9/site-packages (0.5.4)\r\n"
     ]
    }
   ],
   "source": [
    "!pip install opencv-python\n",
    "!pip install imutils"
   ],
   "metadata": {
    "collapsed": false,
    "pycharm": {
     "name": "#%%\n"
    }
   }
  },
  {
   "cell_type": "code",
   "execution_count": 5,
   "outputs": [],
   "source": [
    "class MotionDetector:\n",
    "    def __init__(self, DELTA_THRESH = 5, MIN_AREA = 5000):\n",
    "        self.avg = None\n",
    "        self.DELTA_THRESH = DELTA_THRESH\n",
    "        self.MIN_AREA = MIN_AREA\n",
    "\n",
    "    def detect(self, frame):\n",
    "        frame = imutils.resize(frame, width=500)\n",
    "        gray = cv2.cvtColor(frame, cv2.COLOR_BGR2GRAY)\n",
    "        gray = cv2.GaussianBlur(gray, (21, 21), 0)\n",
    "\n",
    "        if self.avg is None:\n",
    "            self.avg = gray.copy().astype('float')\n",
    "            return\n",
    "\n",
    "        cv2.accumulateWeighted(gray, self.avg, 0.5)\n",
    "        frameDelta = cv2.absdiff(gray, cv2.convertScaleAbs(self.avg))\n",
    "\n",
    "        thresh = cv2.threshold(frameDelta, self.DELTA_THRESH, 255,\n",
    "                           cv2.THRESH_BINARY)[1]\n",
    "        thresh = cv2.dilate(thresh, None, iterations=2)\n",
    "        cnts = cv2.findContours(thresh.copy(), cv2.RETR_EXTERNAL, cv2.CHAIN_APPROX_SIMPLE)\n",
    "        cnts = imutils.grab_contours(cnts)\n",
    "\n",
    "        for cnt in cnts:\n",
    "            if cv2.contourArea(cnt) < self.MIN_AREA:\n",
    "                continue\n",
    "\n",
    "            x, y, w, h = cv2.boundingRect(cnt)\n",
    "            cv2.rectangle(frame, (x, y), (x + w, y + h), (0, 255, 0), 2)\n",
    "\n",
    "        cv2.imshow('frame', frame)\n"
   ],
   "metadata": {
    "collapsed": false,
    "pycharm": {
     "name": "#%%\n"
    }
   }
  },
  {
   "cell_type": "code",
   "execution_count": 6,
   "outputs": [],
   "source": [
    "import cv2, time, imutils\n",
    "\n",
    "cap = cv2.VideoCapture(0)\n",
    "\n",
    "# time.sleep(2)\n",
    "\n",
    "detector = MotionDetector()\n",
    "while True:\n",
    "    ret, frame = cap.read()\n",
    "\n",
    "    detector.detect(frame)\n",
    "\n",
    "\n",
    "    if cv2.waitKey(1) & 0xFF == ord('q'): break\n",
    "\n",
    "cap.release()\n",
    "cv2.destroyAllWindows()\n",
    "exit()"
   ],
   "metadata": {
    "collapsed": false,
    "pycharm": {
     "name": "#%%\n"
    }
   }
  },
  {
   "cell_type": "code",
   "execution_count": 6,
   "outputs": [],
   "source": [],
   "metadata": {
    "collapsed": false,
    "pycharm": {
     "name": "#%%\n"
    }
   }
  }
 ],
 "metadata": {
  "kernelspec": {
   "display_name": "Python 3",
   "language": "python",
   "name": "python3"
  },
  "language_info": {
   "codemirror_mode": {
    "name": "ipython",
    "version": 2
   },
   "file_extension": ".py",
   "mimetype": "text/x-python",
   "name": "python",
   "nbconvert_exporter": "python",
   "pygments_lexer": "ipython2",
   "version": "2.7.6"
  }
 },
 "nbformat": 4,
 "nbformat_minor": 0
}